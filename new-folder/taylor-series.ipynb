{
 "cells": [
  {
   "cell_type": "code",
   "execution_count": 39,
   "id": "fa5f7b11-a257-40a5-8195-bf09640e483e",
   "metadata": {},
   "outputs": [
    {
     "name": "stdout",
     "output_type": "stream",
     "text": [
      "ln(3) is 1.0986122886681098\n",
      "log_10(3) is 0.47712125471966244\n",
      "exp(1) is 2.718281828459045\n",
      "Using 10 orders Taylor series expansion, the result is 2.7182818011463845\n",
      "In order to be 3 decimal accurate, the number of order of Taylor Series Expansion that we need to do is 8 and the reuslt is 2.71827876984127\n"
     ]
    }
   ],
   "source": [
    "for v in dir(): del globals()[v]\n",
    "\n",
    "import sys\n",
    "import subprocess\n",
    "\n",
    "from scipy.stats import norm\n",
    "import math\n",
    "\n",
    "x = math.log(3)\n",
    "print('ln(3) is', x)\n",
    "x=math.log(3, 10)\n",
    "print('log_10(3) is', x)\n",
    "\n",
    "x = math.exp(1)\n",
    "print('exp(1) is', x)\n",
    "import numpy as np\n",
    "import pandas as pd\n",
    "from functools import partial\n",
    "from scipy.stats import norm as norm\n",
    "from matplotlib import pyplot as plt\n",
    "def TayExp(gridsize, x, x0):\n",
    "    n = range(gridsize+1)\n",
    "    w=np.zeros(gridsize+1)\n",
    "    i=0\n",
    "    for i in n:\n",
    "        w[i]=math.exp(x0)*(x-x0)**i/math.factorial(i)\n",
    "    return sum(w)\n",
    "\n",
    "a=TayExp(10, 1, 0)\n",
    "print('Using 10 orders Taylor series expansion, the result is', a)\n",
    "\n",
    "def RevTayExp(x, x0):\n",
    "    n = range(100+1)\n",
    "    w=np.zeros(100+1)\n",
    "    i=0\n",
    "    for i in n:\n",
    "        w[i]=math.exp(x0)*(x-x0)**i/math.factorial(i)\n",
    "        total=sum(w)\n",
    "        if abs(total-math.exp(x))<0.00001:\n",
    "            break\n",
    "    return total, i\n",
    "\n",
    "b= RevTayExp(1, 0)\n",
    "print('In order to be 3 decimal accurate, the number of order of Taylor Series Expansion that we need to do is', b[1], 'and the reuslt is', b[0])\n"
   ]
  },
  {
   "cell_type": "code",
   "execution_count": null,
   "id": "d18b59eb-1f2f-410c-8855-cddd315577d6",
   "metadata": {},
   "outputs": [],
   "source": []
  }
 ],
 "metadata": {
  "kernelspec": {
   "display_name": "Python 3 (ipykernel)",
   "language": "python",
   "name": "python3"
  },
  "language_info": {
   "codemirror_mode": {
    "name": "ipython",
    "version": 3
   },
   "file_extension": ".py",
   "mimetype": "text/x-python",
   "name": "python",
   "nbconvert_exporter": "python",
   "pygments_lexer": "ipython3",
   "version": "3.11.7"
  }
 },
 "nbformat": 4,
 "nbformat_minor": 5
}
