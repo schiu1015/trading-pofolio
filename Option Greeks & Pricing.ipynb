{
 "cells": [
  {
   "attachments": {
    "image-2.png": {
     "image/png": "[encoded data removed]"
    }
   },
   "cell_type": "markdown",
   "metadata": {},
   "source": [
    "# Put-Call Parity for Option Pricing\n",
    "\n",
    "* In this section, we will deal only with European options, not American ones.\n",
    "* We will assume that we:\n",
    "    1. Buy/Long an European Call option\n",
    "    2. Sell/Short an European Put option\n",
    "* Both options have the same underlying asset, the same strike price, and the same time to expiry.\n",
    "* There are no arbitrage oppurtunities.\n",
    "* It is possible to borrow or lend any amount of money at the risk-free rate.\n",
    "* There are no transaction charges.\n",
    "* Here's the following equation for Put-Call Parity:\n",
    "![image-2.png](attachment:image-2.png)\n",
    "\n",
    "* The Put-Call Parity equations lets you price a put once you know the price of a call and vice versa.\n",
    "\n",
    "### Pre-liminary Equations and Constants\n",
    "* $F_{t,T}$ is the price of a forward sold at time t and expring at time T\n",
    "* $S_{t}$ is the price of a stock at time t\n",
    "* $(1 + i) = e^{r}$ where $i$ is the annual rate and $r$ is the continuously compounded rate. \n",
    "* $K$ is the strike price.\n",
    "* $T$ the time in years."
   ]
  },
  {
   "cell_type": "markdown",
   "metadata": {},
   "source": [
    "## Stock Put-Call Parity\n",
    "\n",
    "### Non-dividend paying stock\n",
    "* For a non-dividend paying stock, the forward price is $F_{0,T} = S_{0}e^{rT}$. So, the Put-Call Parity equation becomes $$C(K,T) - P(K,T) = S_{0} - Ke^{-rT}$$"
   ]
  },
  {
   "cell_type": "code",
   "execution_count": 1,
   "metadata": {},
   "outputs": [],
   "source": [
    "def NonDividend_Stock(S, K, T, i=None, C=None, P=None, r=None):\n",
    "    if r == None:\n",
    "        import numpy as np\n",
    "        r = np.log(1+i)\n",
    "        \n",
    "    import math\n",
    "    e = math.e\n",
    "        \n",
    "    if C == None and P == None:\n",
    "        return \"Please input the Price of a Call (C) or Put (P) option\"\n",
    "        \n",
    "    if C == None:\n",
    "        C = S - K*e**(-r*T) + P\n",
    "        return C\n",
    "    \n",
    "    if P == None:\n",
    "        P = C - S + K*e**(-r*T)\n",
    "        return P"
   ]
  },
  {
   "cell_type": "markdown",
   "metadata": {},
   "source": [
    "Example: A nondividend paying stock has the following:\n",
    "* S = 40\n",
    "* C = 2.84\n",
    "* K = 45\n",
    "* T = 9 months\n",
    "* r = 0.05\n",
    "\n",
    "Calculate the price of the Premium Option P(45,0.75) selling the stock for 45 after 9 months."
   ]
  },
  {
   "cell_type": "code",
   "execution_count": 2,
   "metadata": {},
   "outputs": [
    {
     "name": "stdout",
     "output_type": "stream",
     "text": [
      "6.183748797436984\n"
     ]
    }
   ],
   "source": [
    "print(NonDividend_Stock(S=40, K=45, T=0.75, C=2.84, r=0.05))"
   ]
  },
  {
   "cell_type": "markdown",
   "metadata": {},
   "source": [
    "### Discrete dividend paying stock\n",
    "* For a discrete dividend paying stock, we have to account for the present value of dividends, so the Put-Call Parity equation becomes $$C(K,T) - P(K,T) = S_{0} - PV_{0,T}(Divs) - Ke^{-rT}$$"
   ]
  },
  {
   "cell_type": "code",
   "execution_count": 3,
   "metadata": {},
   "outputs": [],
   "source": [
    "def DiscreteDividend_Stock(S, K, T, delta, i=None, C=None, P=None, r=None):\n",
    "    if r == None:\n",
    "        import numpy as np\n",
    "        r = np.log(1+i)\n",
    "        \n",
    "    import math\n",
    "    e = math.e\n",
    "        \n",
    "    if C == None and P == None:\n",
    "        return \"Please input the Price of a Call (C) or Put (P) option\"\n",
    "        \n",
    "    if C == None:\n",
    "        C = S*e**(-delta*T) - K*e**(-r*T) + P\n",
    "        return C\n",
    "    \n",
    "    if P == None:\n",
    "        P = C - S*e**(-delta*T) + K*e**(-r*T)\n",
    "        return P"
   ]
  },
  {
   "cell_type": "markdown",
   "metadata": {},
   "source": [
    "Example: Given the following:\n",
    "* S = 40\n",
    "* C = 2.34\n",
    "* K = 50\n",
    "* T = 1 year\n",
    "* r = 0.08\n",
    "* delta = 0.02\n",
    "\n",
    "Calculate the price of the Premium Option P(50, 1) selling the stock for 50 after 1 year."
   ]
  },
  {
   "cell_type": "code",
   "execution_count": 4,
   "metadata": {},
   "outputs": [
    {
     "name": "stdout",
     "output_type": "stream",
     "text": [
      "9.287870387061574\n"
     ]
    }
   ],
   "source": [
    "print(DiscreteDividend_Stock(40, 50, 1, 0.02, C=2.34, r=0.08))"
   ]
  },
  {
   "cell_type": "markdown",
   "metadata": {},
   "source": [
    "### Continuous dividend paying stock\n",
    "* For a continuous dividend paying stock, with continuous dividend rate $\\delta$,  the Put-Call Parity equation becomes $$C(K,T) - P(K,T) = S_{0}e^{-\\delta T} - Ke^{-rT}$$"
   ]
  },
  {
   "cell_type": "code",
   "execution_count": 5,
   "metadata": {},
   "outputs": [],
   "source": [
    "def ContinuousDividend_Stock(S, K, T, delta, i=None, C=None, P=None, r=None):\n",
    "    if r == None:\n",
    "        import numpy as np\n",
    "        r = np.log(1+i)\n",
    "        \n",
    "    import math\n",
    "    e = math.e\n",
    "        \n",
    "    if C == None and P == None:\n",
    "        return \"Please input the Price of a Call (C) or Put (P) option\"\n",
    "        \n",
    "    if C == None:\n",
    "        C = S*e**(-delta*T) - K*e**(-r*T) + P\n",
    "        return C\n",
    "    \n",
    "    if P == None:\n",
    "        P = C - S*e**(-delta*T) + K*e**(-r*T)\n",
    "        return P"
   ]
  },
  {
   "cell_type": "markdown",
   "metadata": {},
   "source": [
    "Example: Given the following:\n",
    "* S = 40\n",
    "* C = 2.34\n",
    "* K = 50\n",
    "* T = 1 year\n",
    "* r = 0.08\n",
    "* delta = 0.02\n",
    "\n",
    "Calculate the price of the Premium Option P(50, 1) selling the stock for 50 after 1 year."
   ]
  },
  {
   "cell_type": "code",
   "execution_count": 6,
   "metadata": {},
   "outputs": [
    {
     "name": "stdout",
     "output_type": "stream",
     "text": [
      "9.287870387061574\n"
     ]
    }
   ],
   "source": [
    "print(ContinuousDividend_Stock(S=40, K=50, T=1, delta=0.02, C=2.34, r=0.08))"
   ]
  },
  {
   "cell_type": "markdown",
   "metadata": {},
   "source": [
    "##  Currency Put-Call Parity\n",
    "\n",
    "### Currency options\n",
    "* Let $C(x_{0},K,T)$ be a call option on currency with spot exchange rate $x_{0}$ to purchase it at exchange rate K at time T, and $P(x_{0},K,T)$ be the corresponding put option.\n",
    "* Let $r_{f}$ be the continuously compounded foreign risk-free rate, which is for the currency playing the role of a stock (purchased for a call option or sold for a put option)\n",
    "* let $r_{d}$ be the continuously compounded domestic risk free rate, which plays the role of cash in a stock option (the one which the option owner pays in a call option and the one which the option owner receives in a put option)\n",
    "\n",
    "So, the Put-Call parity equation becomes $$C(x_{0},K,T) - P(x_{0},K,T) = x_{0}e^{-r_{f}T} - Ke^{-r_{d}T}$$"
   ]
  },
  {
   "cell_type": "code",
   "execution_count": 7,
   "metadata": {},
   "outputs": [],
   "source": [
    "def Currency_Option(x0, K, T, rf, rd, C=None, P=None): \n",
    "    import math\n",
    "    e = math.e\n",
    "        \n",
    "    if C == None and P == None:\n",
    "        return \"Please input the Price of a Call (C) or Put (P) option\"\n",
    "        \n",
    "    if C == None:\n",
    "        C = x0*e**(-rf*T) - K*e**(-rd*T) + P\n",
    "        return C\n",
    "    \n",
    "    if P == None:\n",
    "        P = C - x0*e**(-rf*T) + K*e**(-rd*T)\n",
    "        return P"
   ]
  },
  {
   "cell_type": "markdown",
   "metadata": {},
   "source": [
    "Example:\n",
    "\n",
    "* The spot exchange rate for dollars to pounds is $x_{0}$ = 1.4\\$/£\n",
    "\n",
    "* The continuously compounded risk-free rate for dollars is 5% ($r_{d}$ = 0.05)\n",
    "\n",
    "* The continuously compounded risk-free rate for pounds is 8% ($r_{f}$ = 0.08)\n",
    "\n",
    "* A 9-month dollar denominated call option, allows to buy 1£ at the rate of 1.50$/£, for a price of 0.023\\\\$\n",
    "\n",
    "Calculate the price of the Premium Option P(1.4, 1.5, 0.75) which allows selling £1 at the rate of 1.5$/£."
   ]
  },
  {
   "cell_type": "code",
   "execution_count": 8,
   "metadata": {},
   "outputs": [
    {
     "name": "stdout",
     "output_type": "stream",
     "text": [
      "0.14862127956328441\n"
     ]
    }
   ],
   "source": [
    "print(Currency_Option(x0=1.4, K=1.5, T=0.75, rf=0.08, rd=0.05, C=.0223))"
   ]
  },
  {
   "cell_type": "markdown",
   "metadata": {},
   "source": [
    "# Binomial Trees for Option Pricing\n",
    "\n",
    "### Introduction\n",
    "* Binomial Trees is a discrete and computationally intensive way of pricing options. \n",
    "* Here's how we evaluate Binary Trees:\n",
    "  1. Using Binomial Trees, we break the expiry time of options into periods.\n",
    "  2. An option can only be one of the prices based on each period.\n",
    "  3. We recursively determine the value of an option by evaluating the payoff under each expiry period and then moving backwards through the tree.\n",
    "\n",
    "### Risk-Neutral Pricing \n",
    "\n",
    "* In a risk-neutral world, one does not expect a premium to make up for the lack of certainty of the payoff. For example, given a choice between having 50 for sure and having a random amount of money with expected value 50, one is indifferent.\n",
    "* The risk-neutral probability is a theoretical probability that the stock price would rise in a risk neutral world. It assumes:\n",
    "    1. The current value of an asset is equal to its expected payoff discoutned at the risk-free rate.\n",
    "    2. There are no arbitrage oppurtunities in the market.\n",
    "* The risk-neutral probability is purely a mathematical concept and does not represent the probability of anything. We neither assume that all the investors in the market are risk-neutral, nor the fact that risky assets will earn the risk-free rate of return.\n",
    "\n",
    "## Non-Dividend Paying Stock, One Period\n",
    "\n",
    " * We will assume that the underlying asset is a nondividend paying stock.\n",
    " * The stock can only have one of 2 values at expiry of the option.\n",
    " * We will only deal with European options.\n",
    "\n",
    "**Pre-liminary Equations or Constants**\n",
    "* $u$ - factor by which the price will go up\n",
    "* $d$ - factor by which the price will go down\n",
    "* $p$ - risk-neutral probability\n",
    "* $S$ - stock price at time 0\n",
    "* $S_u$ - Price of stock if its value goes up ($S_u$ = $S*u$)\n",
    "* $S_d$ - Price of stock if its value goes down ($S_d$ = $S*d$)\n",
    "* $i$ - annual risk-free interest rate\n",
    "* $r$ - continuously compounded risk-free interest rate."
   ]
  },
  {
   "cell_type": "code",
   "execution_count": 9,
   "metadata": {},
   "outputs": [],
   "source": [
    "def NonDivStock_OnePeriod(Option_type, K, u=None, d=None, p=None, S=None, S_u=None, S_d=None, i=None, r=None):\n",
    "    if r == None:\n",
    "        import numpy as np\n",
    "        r = np.log(1+i)\n",
    "        \n",
    "    import math\n",
    "    e = math.e\n",
    "    \n",
    "    if u==None and d==None:\n",
    "        p = (S/(e**-r) - S_d)/(S_u - S_d)\n",
    "        \n",
    "    if S_u == None and S_d == None:\n",
    "        p = (1/(e**-r) - d)/(u - d)\n",
    "        S_u = S*u\n",
    "        S_d = S*d\n",
    "    \n",
    "    if Option_type == 'C':\n",
    "        Option_premium = (e**-r)*((max(S_u - K, 0))*p + (1-p)*(max(S_d - K, 0)))\n",
    "        return Option_premium\n",
    "    \n",
    "    if Option_type == 'P':\n",
    "        Option_premium = (e**-r)*((max(K - S_u, 0))*p + (1-p)*(max(K - S_d, 0)))\n",
    "        return Option_premium"
   ]
  },
  {
   "cell_type": "markdown",
   "metadata": {},
   "source": [
    "Example: Given the following\n",
    "\n",
    "* Option_type = '$C$'\n",
    "* $K$ = 55\n",
    "* $S$ = 50\n",
    "* $S_u$ = 60\n",
    "* $S_d$ = 40\n",
    "* $r$ = 0.05\n",
    "\n",
    "Calculate the premium of the Call Option C(55, 1) for a single period with a strike price of 55."
   ]
  },
  {
   "cell_type": "code",
   "execution_count": 10,
   "metadata": {},
   "outputs": [
    {
     "name": "stdout",
     "output_type": "stream",
     "text": [
      "2.98770575499286\n"
     ]
    }
   ],
   "source": [
    "print(NonDivStock_OnePeriod(Option_type='C', K=55, S=50, S_u=60, S_d=40, r=0.05))"
   ]
  },
  {
   "cell_type": "markdown",
   "metadata": {},
   "source": [
    "## Non-Dividend Paying Stock, Multi-Period, European Options\n",
    "\n",
    "* We will assume that the underlying asset is a nondividend paying stock.\n",
    "* The stock can only have one of the values at expiry of the option.\n",
    "* We assume that exercise is only possible at the end of a period of the tree\n",
    "\n",
    "**Pre-liminary Equations or Constants**\n",
    "* $K$ - strike price\n",
    "* $S$ - stock price at time 0\n",
    "* $u$ - factor by which the price will go up\n",
    "* $d$ - factor by which the price will go down\n",
    "* $p$ - risk-neutral probability\n",
    "* $n$ - # of periods\n",
    "* $t$ - time in years\n",
    "* $i$ - annual risk-free interest rate\n",
    "* $r$ - continuously compounded risk-free interest rate"
   ]
  },
  {
   "cell_type": "code",
   "execution_count": 11,
   "metadata": {},
   "outputs": [],
   "source": [
    "def NonDivStock_MultiPeriod_European(Option_type, K, S, u, d, n, t, r=None, i=None):\n",
    "    import math\n",
    "    import numpy as np\n",
    "    e = math.e\n",
    "    def fact(y):\n",
    "        return math.factorial(y)\n",
    "    \n",
    "    if r == None:\n",
    "        r = np.log(1+i)\n",
    "    \n",
    "    p = (e**(r*t/n) - d)/(u - d)\n",
    "    \n",
    "    option_premium = 0\n",
    "    \n",
    "    if Option_type == 'P':\n",
    "        for x in range(n + 1):\n",
    "            S_t = (u**x)*(d**(n-x))*S\n",
    "            payoff = max(K - S_t,0)\n",
    "            expected_value = fact(n)/(fact(n-x)*fact(x))*(p**x)*((1-p)**(n-x))*payoff\n",
    "            option_premium += expected_value*e**(-r*t)\n",
    "            \n",
    "    if Option_type == 'C':\n",
    "        for x in range(n + 1):\n",
    "            S_t = (u**x)*(d**(n-x))*S\n",
    "            payoff = max(S_t - K,0)\n",
    "            expected_value = fact(n)/(fact(n-x)*fact(x))*(p**x)*((1-p)**(n-x))*payoff\n",
    "            option_premium += expected_value*e**(-r*t)\n",
    "        \n",
    "    return option_premium"
   ]
  },
  {
   "cell_type": "code",
   "execution_count": 12,
   "metadata": {},
   "outputs": [
    {
     "name": "stdout",
     "output_type": "stream",
     "text": [
      "30.298533216327986\n"
     ]
    }
   ],
   "source": [
    "print(NonDivStock_MultiPeriod_European(Option_type='P', K=160, S=150, u=1.3, d=0.7, n=2, t=0.5, r=0.06))"
   ]
  },
  {
   "cell_type": "markdown",
   "metadata": {},
   "source": [
    "## Non-Dividend Paying Stock, Multi-Period, American Options\n",
    "\n",
    "* We will assume that the underlying asset is a nondividend paying stock.\n",
    "* The stock can only have one of the values at expiry of the option.\n",
    "* We still assume that exercise is only possible at the end of a period of the tree.\n",
    "* The only difference between a tree for an American and an European option is that when pulling back for an American option, the value of the option is the higher of the pulled back value and the exercise value. \n",
    "\n",
    "**Pre-liminary Equations or Constants**\n",
    "* $K$ - strike price\n",
    "* $S$ - stock price at time 0\n",
    "* $u$ - factor by which the price will go up\n",
    "* $d$ - factor by which the price will go down\n",
    "* $p$ - risk-neutral probability\n",
    "* $n$ - # of periods\n",
    "* $t$ - time in years\n",
    "* $i$ - annual risk-free interest rate\n",
    "* $r$ - continuously compounded risk-free interest rate"
   ]
  },
  {
   "cell_type": "code",
   "execution_count": 13,
   "metadata": {},
   "outputs": [],
   "source": [
    "def NonDivStock_MultiPeriod_American(Option_type, K, S, u, d, n, t, r=None, i=None):\n",
    "    import math\n",
    "    import numpy as np\n",
    "    e = math.e\n",
    "    def fact(y):\n",
    "        return math.factorial(y)\n",
    "    \n",
    "    if r == None:\n",
    "        r = np.log(1+i)\n",
    "    \n",
    "    p = ((e**(r*t/n)) - d)/(u - d)\n",
    "\n",
    "    option_premium = [0 for i in range(n+1)]\n",
    "    \n",
    "    if Option_type == 'P':\n",
    "        for x in range(n + 1):\n",
    "            S_t = (u**x)*(d**(n-x))*S\n",
    "            payoff = max(K - S_t,0)\n",
    "            option_premium[x] = payoff\n",
    "            \n",
    "            \n",
    "        for i in range(n-1,-1,-1):\n",
    "            for j in range(0,i+1):\n",
    "                S_t = (u**j)*(d**(i-j))*S\n",
    "                option_premium[j] = (option_premium[j+1]*(p) + (1-p)*option_premium[j])*e**(-r*t/n)\n",
    "                option_premium[j] = max(option_premium[j], K - S_t)\n",
    "            \n",
    "    if Option_type == 'C':\n",
    "        for x in range(n + 1):\n",
    "            S_t = (u**x)*(d**(n-x))*S\n",
    "            payoff = max(S_t - K,0)\n",
    "            option_premium[x] = payoff\n",
    "            \n",
    "        for i in range(n-1,-1,-1):\n",
    "            for j in range(0,i+1):\n",
    "                S_t = (u**j)*(d**(i-j))*S\n",
    "                option_premium[j] = (option_premium[j+1]*(p) + (1-p)*option_premium[j])*e**(-r*t/n)\n",
    "                option_premium[j] = max(option_premium[j], S_t - K)\n",
    "            \n",
    "    return option_premium[0]"
   ]
  },
  {
   "cell_type": "code",
   "execution_count": 14,
   "metadata": {},
   "outputs": [
    {
     "name": "stdout",
     "output_type": "stream",
     "text": [
      "31.41273787605691\n",
      "4.654588754602527\n"
     ]
    }
   ],
   "source": [
    "print(NonDivStock_MultiPeriod_American(Option_type='P', K=160, S=150, u=1.3, d=0.7, n=2, t=0.5, r=0.06))\n",
    "print(NonDivStock_MultiPeriod_American(Option_type='P', K=100, S=100, u=1.1, d=1/1.1, n=3, t=1, r=0.06))"
   ]
  },
  {
   "cell_type": "markdown",
   "metadata": {},
   "source": [
    "## Currency Exchange Rate, Multi-Period, European Options\n",
    "\n",
    "* We will assume that the underlying asset is a currnecy exchange rate.\n",
    "* The currnecy exchange rate can only have one of the values at expiry of the option.\n",
    "* We assume that exercise is only possible at the end of a period of the tree.\n",
    "* The risk-free rate is the domestic (the one on which the strike price is based) risk-free rate. The foreign risk-free rate (the one on which the currency can be elected to be received or paid) is the continuous dividend rate.\n",
    "\n",
    "**Pre-liminary Equations or Constants**\n",
    "* $K$ - strike exchange rate\n",
    "* $E$ - excahnge rate at time 0\n",
    "* $u$ - factor by which the exchange rate will go up\n",
    "* $d$ - factor by which the exchange rate will go down\n",
    "* $p$ - risk-neutral probability\n",
    "* $n$ - # of periods\n",
    "* $t$ - time in years\n",
    "* $r_f$ - foreign risk-free rate\n",
    "* $r_d$ - domestic risk-free rate "
   ]
  },
  {
   "cell_type": "code",
   "execution_count": 15,
   "metadata": {},
   "outputs": [],
   "source": [
    "def Currency_MultiPeriod_European(Option_type, K, E, u, d, n, t, r_f, r_d):\n",
    "    import math\n",
    "    import numpy as np\n",
    "    e = math.e\n",
    "    def fact(y):\n",
    "        return math.factorial(y)\n",
    "    \n",
    "    p = (e**((r_d-r_f)*t/n) - d)/(u - d)\n",
    "    \n",
    "    option_premium = 0\n",
    "    \n",
    "    if Option_type == 'P':\n",
    "        for x in range(n + 1):\n",
    "            E_t = (u**x)*(d**(n-x))*E\n",
    "            payoff = max(K - E_t,0)\n",
    "            expected_value = fact(n)/(fact(n-x)*fact(x))*(p**x)*((1-p)**(n-x))*payoff\n",
    "            option_premium += expected_value*e**(-r_d*t)\n",
    "            \n",
    "    if Option_type == 'C':\n",
    "        for x in range(n + 1):\n",
    "            E_t = (u**x)*(d**(n-x))*E\n",
    "            payoff = max(E_t - K,0)\n",
    "            expected_value = fact(n)/(fact(n-x)*fact(x))*(p**x)*((1-p)**(n-x))*payoff\n",
    "            option_premium += expected_value*e**(-r_d*t)\n",
    "        \n",
    "    return option_premium"
   ]
  },
  {
   "cell_type": "code",
   "execution_count": 16,
   "metadata": {},
   "outputs": [
    {
     "name": "stdout",
     "output_type": "stream",
     "text": [
      "0.006332134342003761\n"
     ]
    }
   ],
   "source": [
    "print(Currency_MultiPeriod_European(Option_type='C', K=1.25, E=1.15, u=1.053903, d=0.95361, n=2, t=0.5, r_f=0.04, r_d=0.05))"
   ]
  },
  {
   "cell_type": "markdown",
   "metadata": {},
   "source": [
    "## Currency Exchange Rate, Multi-Period, American Options\n",
    "\n",
    "* We will assume that the underlying asset is a currnecy exchange rate.\n",
    "* The currnecy exchange rate can only have one of the values at expiry of the option.\n",
    "* We assume that exercise is only possible at the end of a period of the tree.\n",
    "* The risk-free rate is the domestic (the one on which the strike price is based) risk-free rate. The foreign risk-free rate (the one on which the currency can be elected to be received or paid) is the continuous dividend rate.\n",
    "* The only difference between a tree for an American and an European option is that when pulling back for an American option, the value of the option is the higher of the pulled back value and the exercise value. \n",
    "\n",
    "\n",
    "**Pre-liminary Equations or Constants**\n",
    "* $K$ - strike exchange rate\n",
    "* $E$ - excahnge rate at time 0\n",
    "* $u$ - factor by which the exchange rate will go up\n",
    "* $d$ - factor by which the exchange rate will go down\n",
    "* $p$ - risk-neutral probability\n",
    "* $n$ - # of periods\n",
    "* $t$ - time in years\n",
    "* $r_f$ - foreign risk-free rate\n",
    "* $r_d$ - domestic risk-free rate "
   ]
  },
  {
   "cell_type": "code",
   "execution_count": 17,
   "metadata": {},
   "outputs": [],
   "source": [
    "def Currency_MultiPeriod_American(Option_type, K, E, u, d, n, t, r_f, r_d):\n",
    "    import math\n",
    "    import numpy as np\n",
    "    e = math.e\n",
    "    def fact(y):\n",
    "        return math.factorial(y)\n",
    "    \n",
    "    p = (e**((r_d-r_f)*t/n) - d)/(u - d)\n",
    "    \n",
    "    option_premium = [0 for i in range(n+1)]\n",
    "    \n",
    "    if Option_type == 'P':\n",
    "        for x in range(n + 1):\n",
    "            E_t = (u**x)*(d**(n-x))*E\n",
    "            payoff = max(K - E_t,0)\n",
    "            option_premium[x] = payoff\n",
    "            \n",
    "            \n",
    "        for i in range(n-1,-1,-1):\n",
    "            for j in range(0,i+1):\n",
    "                E_t = (u**j)*(d**(i-j))*E\n",
    "                option_premium[j] = (option_premium[j+1]*(p) + (1-p)*option_premium[j])*e**(-r_d*t/n)\n",
    "                option_premium[j] = max(option_premium[j], K - E_t)\n",
    "            \n",
    "    if Option_type == 'C':\n",
    "        for x in range(n + 1):\n",
    "            E_t = (u**x)*(d**(n-x))*E\n",
    "            payoff = max(E_t - K,0)\n",
    "            option_premium[x] = payoff\n",
    "            \n",
    "        for i in range(n-1,-1,-1):\n",
    "            for j in range(0,i+1):\n",
    "                E_t = (u**j)*(d**(i-j))*E\n",
    "                option_premium[j] = (option_premium[j+1]*(p) + (1-p)*option_premium[j])*e**(-r_d*t/n)\n",
    "                option_premium[j] = max(option_premium[j], E_t - K)\n",
    "            \n",
    "    return option_premium[0]"
   ]
  },
  {
   "cell_type": "code",
   "execution_count": 18,
   "metadata": {},
   "outputs": [
    {
     "name": "stdout",
     "output_type": "stream",
     "text": [
      "0.006332134342003762\n"
     ]
    }
   ],
   "source": [
    "print(Currency_MultiPeriod_American(Option_type='C', K=1.25, E=1.15, u=1.053903, d=0.95361, n=2, t=0.5, r_f=0.04, r_d=0.05))"
   ]
  },
  {
   "cell_type": "markdown",
   "metadata": {},
   "source": [
    "## Pricing Options on Futures, Multi-Period, American Options\n",
    "\n",
    "* We will assume that the underlying asset is a futures contract, having the same price as a forward. Futures contracts pay no dividends\n",
    "* An option may have the same expiry as the futures contract, or the futures contract may expire later.\n",
    "* Exercising the option enters one into a futures contract.\n",
    "* The futures contract can only have one of the values at expiry of the option.\n",
    "* We assume that exercise is only possible at the end of a period of the tree.\n",
    "* When pulling back for an American option, the value of the option is the higher of the pulled back value and the exercise value. \n",
    "\n",
    "\n",
    "**Pre-liminary Equations or Constants**\n",
    "* $K$ - Strike price\n",
    "* $F$ - Futures contract price at time 0\n",
    "* $u$ - factor by which the futures contract will go up\n",
    "* $d$ - factor by which the futures contract will go down\n",
    "* $p$ - risk-neutral probability\n",
    "* $n$ - # of periods\n",
    "* $t$ - time in years\n",
    "* $i$ - annual risk-free interest rate\n",
    "* $r$ - continuously compounded risk-free interest rate"
   ]
  },
  {
   "cell_type": "code",
   "execution_count": 19,
   "metadata": {},
   "outputs": [],
   "source": [
    "def Futures_MultiPeriod_American(Option_type, K, F, u, d, n, t, i=None, r=None):\n",
    "    import math\n",
    "    import numpy as np\n",
    "    e = math.e\n",
    "    def fact(y):\n",
    "        return math.factorial(y)\n",
    "    \n",
    "    if r == None:\n",
    "        r = np.log(1+i)\n",
    "    \n",
    "    p = (1 - d)/(u - d)\n",
    "    \n",
    "    option_premium = [0 for i in range(n+1)]\n",
    "    \n",
    "    if Option_type == 'P':\n",
    "        for x in range(n + 1):\n",
    "            F_t = (u**x)*(d**(n-x))*F\n",
    "            payoff = max(K - F_t,0)\n",
    "            option_premium[x] = payoff\n",
    "            \n",
    "            \n",
    "        for i in range(n-1,-1,-1):\n",
    "            for j in range(0,i+1):\n",
    "                F_t = (u**j)*(d**(i-j))*F\n",
    "                option_premium[j] = (option_premium[j+1]*(p) + (1-p)*option_premium[j])*e**(-r*t/n)\n",
    "                option_premium[j] = max(option_premium[j], K - F_t)\n",
    "            \n",
    "    if Option_type == 'C':\n",
    "        for x in range(n + 1):\n",
    "            F_t = (u**x)*(d**(n-x))*F\n",
    "            payoff = max(F_t - K,0)\n",
    "            option_premium[x] = payoff\n",
    "            \n",
    "        for i in range(n-1,-1,-1):\n",
    "            for j in range(0,i+1):\n",
    "                F_t = (u**j)*(d**(i-j))*F\n",
    "                option_premium[j] = (option_premium[j+1]*(p) + (1-p)*option_premium[j])*e**(-r*t/n)\n",
    "                option_premium[j] = max(option_premium[j], F_t - K)\n",
    "            \n",
    "    return option_premium[0]"
   ]
  },
  {
   "cell_type": "code",
   "execution_count": 20,
   "metadata": {},
   "outputs": [
    {
     "name": "stdout",
     "output_type": "stream",
     "text": [
      "3.8545899550993865\n",
      "52.21233211694692\n"
     ]
    }
   ],
   "source": [
    "print(Futures_MultiPeriod_American(Option_type='C', K=60, F=60, u=1.090463, d=0.917042, n=3, t=3/12, r=0.05))\n",
    "print(Futures_MultiPeriod_American(Option_type='P', K=640, F=650, u=1.193365, d=0.837967, n=2, t=1, r=0.04))"
   ]
  },
  {
   "attachments": {
    "d6d6e4fe-7389-4e6f-a086-b080816f7a2a.png": {
     "image/png": "[encoded data removed]"
    }
   },
   "cell_type": "markdown",
   "metadata": {},
   "source": [
    "# Black-Scholes Formula for Option Pricing\n",
    "\n",
    "### Introduction\n",
    "* The Black-Scholes formula is a closed-form formula for evaluating the value of an European option.\n",
    "The general form of the formula, the price at time 0 of a European call option expiring at time $T$ on an asset $S$ is ![image.png](attachment:d6d6e4fe-7389-4e6f-a086-b080816f7a2a.png)\n",
    "\n",
    "### Assumptions of the Black-Scholes Formula\n",
    "* Continuously compounded returns on the stock are normally distributed and independent over time.\n",
    "* Continuously compounded returns on the strike asset (e.g., the risk-free rate) are known and constant.\n",
    "* Volatility is known and constant.\n",
    "* Dividends are known and constant.\n",
    "* There are no transaction costs or taxes.\n",
    "* It is possible to short-sell any amount of stock and to borrow any amount of money at the risk-free rate."
   ]
  },
  {
   "cell_type": "markdown",
   "metadata": {},
   "source": [
    "## Black-Scholes Formula for Common Stock Options\n",
    "\n",
    "**Pre-liminary Equations or Constants**\n",
    "* $S$ - The underlying asset, a common stock\n",
    "* $\\delta$ - The continuous dividend rate\n",
    "* $F^{P}(S)$ = $Se^{-\\delta T}$ - Prepaid forward price of the Stock\n",
    "* $K$ - The strike asset, cash\n",
    "* $F^{P}(K)$ = $Ke^{-rT}$ - Prepaid forward price of the strike asset\n",
    "* $r$ - continuously compounded risk-free rate.\n",
    "* $T$ - time in years for option expiry\n",
    "* $\\sigma$ - volatility\n",
    "\n",
    "Transforming the prepaid formulas, we get:\n",
    "\n",
    "* $F^{P}(S)$ = $Se^{-\\delta T}$ $\\rightarrow$ ln$F^{P}(S)$ = ln$S$ $-\\delta T$\n",
    "* $F^{P}(K)$ = $Ke^{-rT}$ $\\rightarrow$ ln$F^{P}(K)$ = ln$K$ $-rT$\n",
    "\n",
    "So the Black-Scholes Formula for call options becomes:\n",
    "* $C(S,K,\\sigma,r,T,\\delta) = Se^{-\\delta T}N(d_1) -Ke^{-rT}N(d_2)$\n",
    "\n",
    "For the put option, the roles of S and K are reversed. The Black-Scholes formula can be written as:\n",
    "* $P(S,K,\\sigma,r,T,\\delta) = Ke^{-rT}N(-d_2) -Se^{-\\delta T}N(-d_1)$\n",
    "\n",
    "where\n",
    "* $d_1 = \\frac{ln\\frac{S}{K} + (r -\\delta + \\frac{1}{2}\\sigma^2)T}{\\sigma \\sqrt T}$\n",
    "* $d_2 = d1 - \\sigma \\sqrt T$"
   ]
  },
  {
   "cell_type": "markdown",
   "metadata": {},
   "source": [
    "For a 3-month 52-strike European options on a stock, you are given:\n",
    "\n",
    "* The stock's price follows the Black-Scholes framework.\n",
    "* The stock's price is 50\n",
    "* The stock's volatility is 0.4\n",
    "* The stock's continuous dividend rate is 4%\n",
    "* The continuously compounded risk-free interest rate is 8%\n",
    "\n",
    "Calculate the premium for call and put options."
   ]
  },
  {
   "cell_type": "code",
   "execution_count": 21,
   "metadata": {},
   "outputs": [],
   "source": [
    "def BlackScholes_Stock(Option_type, S, K, sigma, r, T, delta):\n",
    "    import numpy as np\n",
    "    import math\n",
    "    \n",
    "    e = math.e\n",
    "    \n",
    "    d_1 = (np.log(S/K) + (r - delta + 0.5*(sigma**2))*T)/(sigma*np.sqrt(T))\n",
    "    d_2 = d_1 - sigma*np.sqrt(T)\n",
    "    \n",
    "    from scipy.stats import norm\n",
    "    \n",
    "    N_d1 = norm.cdf(d_1)\n",
    "    N_d2 = norm.cdf(d_2)\n",
    "    \n",
    "    if Option_type == 'C':\n",
    "        premium = (S*e**(-T*delta))*(N_d1) - (K*e**(-r*T))*(N_d2)\n",
    "        \n",
    "    else:\n",
    "        premium = (K*e**(-r*T))*(1 - N_d2) - (S*e**(-T*delta))*(1 - N_d1)\n",
    "        \n",
    "    return premium"
   ]
  },
  {
   "cell_type": "code",
   "execution_count": 22,
   "metadata": {},
   "outputs": [
    {
     "name": "stdout",
     "output_type": "stream",
     "text": [
      "Call premium 3.3101837999630916\n",
      "Put premium 4.778023124455963\n"
     ]
    }
   ],
   "source": [
    "print('Call premium',BlackScholes_Stock(\"C\", 50, 52, 0.4, 0.08, 3/12, 0.04))\n",
    "print('Put premium', BlackScholes_Stock(\"P\", 50, 52, 0.4, 0.08, 3/12, 0.04))"
   ]
  },
  {
   "cell_type": "markdown",
   "metadata": {},
   "source": [
    "## Black-Scholes Formula for Common Stock Options w/ Discrete Dividends\n",
    "\n",
    "* The Black-Scholes formula's parameter $\\sigma$ is the volatility of the stock, or $\\sqrt {Var(ln(S_1/S_0)}$ \n",
    "* The Black-Scholes model assumes that $S_t$ is continuous. If $S_t$ is not continuous because fo discrete dividends, it does not satisfy the hypothesis of the Black-Scholes model.\n",
    "* Instead, the Black-Scholes model must be applied to the prepaid forward price. Therefore, $\\sigma$ is defined as the voaltility of the **prepaid forward**\n",
    "* We will assume that $\\sigma$ is the volatility of the prepaid forward. If a stock pays continuous dividends, the the volatility of the stock equals the volatility of the prepaid forward.\n",
    "\n",
    "**Pre-liminary Equations or Constants**\n",
    "* $S$ - The underlying asset, a common stock\n",
    "* $F^{P}(S)$ = $S -PV(Divs)$ - Prepaid forward price of the Stock\n",
    "* $K$ - The strike asset, cash\n",
    "* $D$ - Dividend amount\n",
    "* $F^{P}(K)$ = $Ke^{-rT}$ - Prepaid forward price of the strike asset\n",
    "* $r$ - continuously compounded risk-free rate.\n",
    "* $T$ - time in years for option expiry\n",
    "* $\\sigma$ - volatility of the prepaid forward\n",
    "* $t$ - time to first dividend in years\n",
    "* $D_t$ - dividend frequency in years\n",
    "\n",
    "\n",
    "So the Black-Scholes Formula for call options becomes:\n",
    "* $C(S,K,\\sigma,r,T,\\delta) = F^{P}(S)N(d_1) -Ke^{-rT}N(d_2)$\n",
    "\n",
    "For the put option, the roles of S and K are reversed. The Black-Scholes formula can be written as:\n",
    "* $P(S,K,\\sigma,r,T,\\delta) = Ke^{-rT}N(-d_2) -F^{P}(S)N(-d_1)$\n",
    "\n",
    "where\n",
    "* $d_1 = \\frac{ln\\frac{F^{P}(S)}{K} + (r + \\frac{1}{2}\\sigma^2)T}{\\sigma \\sqrt T}$\n",
    "* $d_2 = d1 - \\sigma \\sqrt T$"
   ]
  },
  {
   "cell_type": "code",
   "execution_count": 23,
   "metadata": {},
   "outputs": [],
   "source": [
    "def PV_Divs(D, t, D_rate, T, r):\n",
    "    import math\n",
    "    e = math.e\n",
    "    remaining_divs = int((T - t)//(D_rate))\n",
    "    \n",
    "    present_value = 0\n",
    "    for i in range(remaining_divs + 1):\n",
    "        present_value += D*e**(-r*(t + i*D_rate))\n",
    "        \n",
    "    return present_value\n",
    "\n",
    "def BlackScholes_Discrete_Stock(Option_type, S, K, sigma, D, t, D_rate, T, r):\n",
    "    import numpy as np\n",
    "    import math\n",
    "    \n",
    "    e = math.e\n",
    "    \n",
    "    Prepaid_Forward_Price = S - PV_Divs(D, t, D_rate, T, r)\n",
    "    \n",
    "    d_1 = (np.log(Prepaid_Forward_Price/K) + (r + 0.5*(sigma**2))*T)/(sigma*np.sqrt(T))\n",
    "    d_2 = d_1 - sigma*np.sqrt(T)\n",
    "    \n",
    "    from scipy.stats import norm\n",
    "    \n",
    "    N_d1 = norm.cdf(d_1)\n",
    "    N_d2 = norm.cdf(d_2)\n",
    "    \n",
    "    if Option_type == 'C':\n",
    "        premium = Prerpaid_Forward_Price*(N_d1) - (K*e**(-r*T))*(N_d2)\n",
    "        \n",
    "    else:\n",
    "        premium = (K*e**(-r*T))*(1 - N_d2) - Prepaid_Forward_Price*(1 - N_d1)\n",
    "        \n",
    "    return premium\n",
    "    "
   ]
  },
  {
   "cell_type": "code",
   "execution_count": 24,
   "metadata": {},
   "outputs": [
    {
     "name": "stdout",
     "output_type": "stream",
     "text": [
      "2.7506667618442613\n"
     ]
    }
   ],
   "source": [
    "print(BlackScholes_Discrete_Stock('P',42, 40, 0.3, 0.75, 3/12, 3/12, 6/12, 0.04))"
   ]
  },
  {
   "cell_type": "markdown",
   "metadata": {},
   "source": [
    "## Black-Scholes Formula for Currency Options\n",
    "\n",
    "* For a currency option, the domestic risk-free rate serves as $r$ and the foreign risk-free rate serves as $\\delta$\n",
    "\n",
    "**Pre-liminary Equations or Constants**\n",
    "* $x$ - Current exchange rate, the number of units of domestic currency per unit of foreign currency.\n",
    "* $F^{P}(x) = xe^{-r_fT}$\n",
    "* $F^{P}(K) = Ke^{-rT}$\n",
    "* $K$ - The strike asset, exchange rate\n",
    "* $\\sigma$ - Volatility of the exchange rate\n",
    "* $r$ - Domestic risk-free rate\n",
    "* $T$ - Time in years for option expiry\n",
    "* $r_f$ - the foreign risk-free rate\n",
    "\n",
    "So the Black-Scholes Formula for call options becomes:\n",
    "* $C(x,K,\\sigma,r,T,r_f) = xe^{-r_fT}N(d_1) -Ke^{-rT}N(d_2)$\n",
    "\n",
    "For the put option, the roles of S and K are reversed. The Black-Scholes formula can be written as:\n",
    "* $P(x,K,\\sigma,r,T,r_f) = Ke^{-rT}N(-d_2) -xe^{-r_fT}N(-d_1)$\n",
    "\n",
    "where\n",
    "* $d_1 = \\frac{ln\\frac{x}{K} + (r - r_f + \\frac{1}{2}\\sigma^2)T}{\\sigma \\sqrt T}$\n",
    "* $d_2 = d1 - \\sigma \\sqrt T$"
   ]
  },
  {
   "cell_type": "code",
   "execution_count": 25,
   "metadata": {},
   "outputs": [],
   "source": [
    "def BlackScholes_Currency(Option_type, x, K, sigma, r, T, r_f):\n",
    "    import numpy as np\n",
    "    import math\n",
    "    \n",
    "    e = math.e\n",
    "    \n",
    "    d_1 = (np.log(x/K) + (r - r_f + 0.5*(sigma**2))*T)/(sigma*np.sqrt(T))\n",
    "    d_2 = d_1 - sigma*np.sqrt(T)\n",
    "    \n",
    "    from scipy.stats import norm\n",
    "    \n",
    "    N_d1 = norm.cdf(d_1)\n",
    "    N_d2 = norm.cdf(d_2)\n",
    "    \n",
    "    if Option_type == 'C':\n",
    "        premium = x*(e**-r_f*T)*(N_d1) - (K*e**(-r*T))*(N_d2)\n",
    "        \n",
    "    else:\n",
    "        premium = (K*e**(-r*T))*(1 - N_d2) - x*(e**-r_f*T)*(1 - N_d1)\n",
    "        \n",
    "    return premium"
   ]
  },
  {
   "cell_type": "markdown",
   "metadata": {},
   "source": [
    "Example: You are given\n",
    "\n",
    "* The spot exchange rate for yen in dollars is 0.009\\$/¥\n",
    "* $\\sigma$ = 0.05\n",
    "* The continuously compounded risk-free rate for yen is 2%\n",
    "* The continuously compounded risk-free rate for dollars is 4%\n",
    "\n",
    "Calculate the Black-Scholes price for a 1-year European dollar-denominated call option on yen with a stirke price of 0.010"
   ]
  },
  {
   "cell_type": "code",
   "execution_count": 26,
   "metadata": {},
   "outputs": [
    {
     "name": "stdout",
     "output_type": "stream",
     "text": [
      "8.269547510135196e-06\n"
     ]
    }
   ],
   "source": [
    "print(BlackScholes_Currency(\"C\",0.009, 0.010, 0.05, 0.04, 1, 0.02))"
   ]
  },
  {
   "cell_type": "markdown",
   "metadata": {},
   "source": [
    "## Black-Scholes Formula for Options on Futures\n",
    "\n",
    "* At the time of option expiry, the payoff on a call option will be excess of the forward price (not the prepaid forward price) over the stirke price, if this is greater than 0\n",
    "* In the case of a future, we discount the forward price and the strike price at the rate $r$.\n",
    "* If the option period and the futures period are the same, then the option is equivalent to an option on the stock. But, in general, forwards don't need to have the same duration as the options. \n",
    "\n",
    "**Pre-liminary Equations or Constants**\n",
    "* $F$ - Forward price\n",
    "* $K$ - Strike price\n",
    "* $r$ - continuously compounded risk-free rate.\n",
    "* $T$ - time in years for option expiry\n",
    "* $\\sigma$ - volatility of the future\n",
    "\n",
    "So the Black-Scholes Formula for call options becomes:\n",
    "* $C(F,K,\\sigma,r,T) = Fe^{-rT}N(d_1) -Ke^{-rT}N(d_2)$\n",
    "\n",
    "For the put option, the roles of S and K are reversed. The Black-Scholes formula can be written as:\n",
    "* $P(F,K,\\sigma,r,T) = Ke^{-rT}N(-d_2) -Fe^{-rT}N(-d_1)$\n",
    "\n",
    "where\n",
    "* $d_1 = \\frac{ln\\frac{F}{K} + \\frac{1}{2}\\sigma^2T}{\\sigma \\sqrt T}$\n",
    "* $d_2 = d1 - \\sigma \\sqrt T$"
   ]
  },
  {
   "cell_type": "code",
   "execution_count": 27,
   "metadata": {},
   "outputs": [],
   "source": [
    "def BlackScholes_Futures(Option_type, F, K, sigma, r, T):\n",
    "    import numpy as np\n",
    "    import math\n",
    "    \n",
    "    e = math.e\n",
    "    \n",
    "    d_1 = (np.log(F/K) + (0.5*(sigma**2))*T)/(sigma*np.sqrt(T))\n",
    "    d_2 = d_1 - sigma*np.sqrt(T)\n",
    "    \n",
    "    from scipy.stats import norm\n",
    "    \n",
    "    N_d1 = norm.cdf(d_1)\n",
    "    N_d2 = norm.cdf(d_2)\n",
    "    \n",
    "    if Option_type == 'C':\n",
    "        premium = F*(e**-r*T)*(N_d1) - (K*e**(-r*T))*(N_d2)\n",
    "        \n",
    "    else:\n",
    "        premium = (K*e**(-r*T))*(1 - N_d2) - F*(e**-r*T)*(1 - N_d1)\n",
    "        \n",
    "    return premium"
   ]
  },
  {
   "cell_type": "markdown",
   "metadata": {},
   "source": [
    "Example: A futures contract on silver has a price of 10 for delivery at the end of 1 year. Volatility is 0.25. The continuously compounded risk-free rate is 4%. Calculate the premium for a 1-year European call option on the futures contract with strike price 10."
   ]
  },
  {
   "cell_type": "code",
   "execution_count": 28,
   "metadata": {},
   "outputs": [
    {
     "name": "stdout",
     "output_type": "stream",
     "text": [
      "0.9557592227791272\n"
     ]
    }
   ],
   "source": [
    "print(BlackScholes_Futures('C', 10, 10, 0.25, 0.04, 1))"
   ]
  },
  {
   "cell_type": "markdown",
   "metadata": {},
   "source": [
    "# The Black-Scholes Formula: Greeks\n",
    "\n",
    "### Introduction\n",
    "* The Black-Scholes formula, expresses the value of a Call (C) or Put (P) in terms of six arguments. By Differentiating (C or P) with respect to these arguments, we can estimate the change in value of a call or put option in response to the change in value of one of these arguments. This is useful if one wishes to hedge the option.then moving backwards through the tree.\n",
    "\n",
    "### Definition of the Greeks\n",
    "\n",
    "* **Delta ($\\Delta$)**: is the increase in the option price per increase in stock price.\n",
    "* **Gamma ($\\Gamma$)**: is the increase in Δ per increase in stock price.\n",
    "* **Vega**: not a greek letter, is the increase in the option price per percentage point increase in volatility.\n",
    "* **Theta ($\\theta$)**: is the increase in the option price for an option with a fixed expiry date per time elapsed. In other words, it is the increase in option price per **decrease** in time to expiry.\n",
    "* **Rho ($\\rho$)**: is the increase in the option price per increase in $r$, the continuously compounded risk-free return. The increase in the risk-free return is measured in percentage points (0.01) or basis points (0.0001).\n",
    "* **Psi ($\\Psi$)**: is the increase in the option price per increase in $\\delta$, the continuous dividend yield. The increase in dividend yield is measured in percentage points (0.01) or basis points (0.0001)."
   ]
  },
  {
   "cell_type": "markdown",
   "metadata": {},
   "source": [
    "## Greeks: Delta\n",
    "\n",
    "* Measures the change in option price as a function of the change in stock price.\n",
    "* Mathematically, it is the derivative of the Put-Call parity equation with respect to $S$, the stock price.\n",
    "* A call option becomes more valuable as the stock price increases, but cannot increase in value more than the stock price, so delta is between 0 and 1. Delta is close to 0 if the call is far out of the money and close to 1 if the call is far in the money.\n",
    "* A put option becomes less valuable as the stock price increases, but cannot decrease in value faster than the stock price increases, so delta is between -1 and 0. Delta is close to 0 when the put option is far out of the money and close to -1 when the option is far in the money.\n",
    "* Understand the derivation of Delta\n",
    "\n",
    "**Pre-liminary Equations or Constants**\n",
    "* $S$ - The underlying asset, a common stock\n",
    "* $K$ - Strike price\n",
    "* $r$ - continuously compounded risk-free rate.\n",
    "* $T$ - time in years for option expiry\n",
    "* $\\sigma$ - volatility of the stock\n",
    "* $\\delta$ - The continuous dividend rate \n",
    "\n",
    "The Delta of a call and put is:\n",
    "* $\\Delta_{call} = e^{-\\delta(T - t)} N(d_1)$\n",
    "* $\\Delta_{put} = -e^{-\\delta(T - t)} N(-d_1)$\n",
    "\n",
    "where\n",
    "* $d_1 = \\frac{ln\\frac{F}{K} + \\frac{1}{2}\\sigma^2T}{\\sigma \\sqrt T}$"
   ]
  },
  {
   "cell_type": "code",
   "execution_count": 29,
   "metadata": {},
   "outputs": [],
   "source": [
    "def Greek_Delta(Option_type, S, K, sigma, r, T, delta):\n",
    "    import numpy as np\n",
    "    import math\n",
    "    \n",
    "    e = math.e\n",
    "    \n",
    "    d_1 = (np.log(S/K) + (r - delta + 0.5*(sigma**2))*T)/(sigma*np.sqrt(T))\n",
    "    d_2 = d_1 - sigma*np.sqrt(T)\n",
    "    \n",
    "    from scipy.stats import norm\n",
    "    \n",
    "    N_d1 = norm.cdf(d_1)\n",
    "    N_d2 = norm.cdf(d_2)\n",
    "    \n",
    "    if Option_type == 'C':\n",
    "        Delta = e**(-T*delta)*(N_d1)\n",
    "        \n",
    "    else:\n",
    "        Delta = e**(-T*delta)*(1 - N_d1)\n",
    "        \n",
    "    return Delta"
   ]
  },
  {
   "cell_type": "markdown",
   "metadata": {},
   "source": [
    "Example: For a stock, you are given:\n",
    "* The price is 45\n",
    "* Volatility of the stock is 0.2\n",
    "* The continuously compounded risk-free rate is 0.05\n",
    "* The continuous dividend rate of the stock is 0.02\n",
    "A European put and call option with a strike price of 43 expire in 3 months. Caluclate the Delta for both options."
   ]
  },
  {
   "cell_type": "code",
   "execution_count": 30,
   "metadata": {},
   "outputs": [
    {
     "name": "stdout",
     "output_type": "stream",
     "text": [
      "0.7153302026313986\n",
      "0.2796822765612837\n"
     ]
    }
   ],
   "source": [
    "print(Greek_Delta('C', 45, 43, 0.2, 0.05, 3/12, 0.02))\n",
    "print(Greek_Delta('P', 45, 43, 0.2, 0.05, 3/12, 0.02))"
   ]
  },
  {
   "cell_type": "markdown",
   "metadata": {},
   "source": [
    "## Greeks: Gamma\n",
    "\n",
    "* Gamma is the second derivative of the option price in terms of the stock price, it is always positive. It can be described as the rate of change of Delta with respect to changes in the underlying price.\n",
    "* Gamma is the same for call and put options with the same strike price.\n",
    "\n",
    "**Pre-liminary Equations or Constants**\n",
    "* $S$ - The underlying asset, a common stock\n",
    "* $K$ - Strike price\n",
    "* $r$ - continuously compounded risk-free rate.\n",
    "* $T$ - time in years for option expiry\n",
    "* $\\sigma$ - volatility of the stock\n",
    "* $\\delta$ - The continuous dividend rate \n",
    "\n",
    "The Gamma for an option is:\n",
    "* $\\Gamma_{call} = \\Gamma_{put} = \\frac{e^{-\\delta T}\\phi(d_1)}{S\\sigma\\sqrt{T}}$  \n",
    "\n",
    "where\n",
    "* $d_1 = \\frac{ln\\frac{S}{K} + (r -\\delta + \\frac{1}{2}\\sigma^2)T}{\\sigma \\sqrt T}$"
   ]
  },
  {
   "cell_type": "markdown",
   "metadata": {},
   "source": [
    "Example: For a stock, you are given:\n",
    "* The price is 45\n",
    "* Volatility of the stock is 0.2\n",
    "* The continuously compounded risk-free rate is 0.05\n",
    "* The continuous dividend rate of the stock is 0.02\n",
    "A European put and call option with a strike price of 43 expire in 3 months. Caluclate the Gamma"
   ]
  },
  {
   "cell_type": "code",
   "execution_count": 31,
   "metadata": {},
   "outputs": [],
   "source": [
    "def Greek_Gamma(S, K, sigma, r, T, delta):\n",
    "    import numpy as np\n",
    "    import math\n",
    "    \n",
    "    e = math.e\n",
    "    \n",
    "    d_1 = (np.log(S/K) + (r - delta + 0.5*(sigma**2))*T)/(sigma*np.sqrt(T))\n",
    "    d_2 = d_1 - sigma*np.sqrt(T)\n",
    "    \n",
    "    from scipy.stats import norm\n",
    "\n",
    "    Gamma = e**(-T*delta)*norm.pdf(d_1,0,1)/(S*sigma*np.sqrt(T))\n",
    "\n",
    "    return Gamma"
   ]
  },
  {
   "cell_type": "markdown",
   "metadata": {},
   "source": [
    "Example: For a stock, you are given:\n",
    "* The price is 45\n",
    "* Volatility of the stock is 0.2\n",
    "* The continuously compounded risk-free rate is 0.05\n",
    "* The continuous dividend rate of the stock is 0.02\n",
    "A European put and call option with a strike price of 43 expire in 3 months. Caluclate the Gamma for the option."
   ]
  },
  {
   "cell_type": "code",
   "execution_count": 32,
   "metadata": {},
   "outputs": [
    {
     "name": "stdout",
     "output_type": "stream",
     "text": [
      "0.07457143377227635\n"
     ]
    }
   ],
   "source": [
    "print(Greek_Gamma(45, 43, 0.2, 0.05, 3/12, 0.02))"
   ]
  },
  {
   "cell_type": "markdown",
   "metadata": {},
   "source": [
    "## Greeks: Vega\n",
    "\n",
    "* Higher volatility raises the probability and the amount by which a stock price will move above or below the strike price, and thus makes the option more valuable. Vega, the derivative of option price with respect to volatility, is therefore always positive.\n",
    "* Vega is the same for calls and puts. It is measured with respect to a 1% change in $\\sigma$, so the derivative is multiplied by 0.01.\n",
    "* Usually the longer the period to expiry, the higher the Vega\n",
    "\n",
    "**Pre-liminary Equations or Constants**\n",
    "* $S$ - The underlying asset, a common stock\n",
    "* $K$ - Strike price\n",
    "* $r$ - continuously compounded risk-free rate.\n",
    "* $T$ - time in years for option expiry\n",
    "* $\\sigma$ - volatility of the stock\n",
    "* $\\delta$ - The continuous dividend rate \n",
    "\n",
    "The Vega for an option, if measured per change in $\\sigma$ is:\n",
    "* $Vega_{call} = Vega_{put} = Se^{-\\delta T}\\phi(d_1)\\sqrt{T}$  \n",
    "\n",
    "where\n",
    "* $d_1 = \\frac{ln\\frac{S}{K} + (r -\\delta + \\frac{1}{2}\\sigma^2)T}{\\sigma \\sqrt T}$"
   ]
  },
  {
   "cell_type": "code",
   "execution_count": 33,
   "metadata": {},
   "outputs": [],
   "source": [
    "def Greek_Vega(S, K, sigma, r, T, delta):\n",
    "    import numpy as np\n",
    "    import math\n",
    "    \n",
    "    e = math.e\n",
    "    \n",
    "    d_1 = (np.log(S/K) + (r - delta + 0.5*(sigma**2))*T)/(sigma*np.sqrt(T))\n",
    "    d_2 = d_1 - sigma*np.sqrt(T)\n",
    "    \n",
    "    from scipy.stats import norm\n",
    "\n",
    "    Vega = S*e**(-T*delta)*norm.pdf(d_1,0,1)*np.sqrt(T)\n",
    "\n",
    "    return Vega"
   ]
  },
  {
   "cell_type": "markdown",
   "metadata": {},
   "source": [
    "Example: For a stock, you are given:\n",
    "* The price is 45\n",
    "* Volatility of the stock is 0.2\n",
    "* The continuously compounded risk-free rate is 0.05\n",
    "* The continuous dividend rate of the stock is 0.02\n",
    "A European put and call option with a strike price of 43 expire in 3 months. Caluclate the Gamma for the option."
   ]
  },
  {
   "cell_type": "code",
   "execution_count": 34,
   "metadata": {},
   "outputs": [
    {
     "name": "stdout",
     "output_type": "stream",
     "text": [
      "7.55035766944298\n"
     ]
    }
   ],
   "source": [
    "print(Greek_Vega(45, 43, 0.2, 0.05, 3/12, 0.02))"
   ]
  },
  {
   "cell_type": "markdown",
   "metadata": {},
   "source": [
    "## Greeks: Theta\n",
    "\n",
    "* Measures the change in the option price as time advances.\n",
    "* Since theta measures the instantaneous change in option price as time advances, it is used to approximate the change in option price after a small amount of time elapses.\n",
    "\n",
    "**Pre-liminary Equations or Constants**\n",
    "* $S$ - The underlying asset, a common stock\n",
    "* $K$ - Strike price\n",
    "* $r$ - continuously compounded risk-free rate.\n",
    "* $T$ - time in years for option expiry\n",
    "* $\\sigma$ - volatility of the stock\n",
    "* $\\delta$ - The continuous dividend rate \n",
    "\n",
    "The Theta for a call option is:\n",
    "* $\\theta_{call} = \\frac{-S\\phi(d_1)\\sigma}{2\\sqrt T} - rKe^{-rT}N(d_2)$  \n",
    "\n",
    "The Theta for a put option is:\n",
    "* $\\theta_{put} = \\frac{-S\\phi(d_1)\\sigma}{2\\sqrt T} + rKe^{-rT}N(-d_2)$  "
   ]
  },
  {
   "cell_type": "code",
   "execution_count": 35,
   "metadata": {},
   "outputs": [],
   "source": [
    "def Greek_Theta(Option_type, S, K, sigma, r, T, delta):\n",
    "    import numpy as np\n",
    "    import math\n",
    "    \n",
    "    e = math.e\n",
    "    \n",
    "    d_1 = (np.log(S/K) + (r - delta + 0.5*(sigma**2))*T)/(sigma*np.sqrt(T))\n",
    "    d_2 = d_1 - sigma*np.sqrt(T)\n",
    "    \n",
    "    from scipy.stats import norm\n",
    "    \n",
    "    if Option_type == 'C':\n",
    "        theta_call =  -S*norm.pdf(d_1,0,1)*sigma/(2*np.sqrt(T)) -r*(K*e**(-r*T))*norm.cdf(d_2)\n",
    "        return theta_call\n",
    "    \n",
    "    else:\n",
    "        theta_put = -S*norm.pdf(d_1,0,1)*sigma/(2*np.sqrt(T)) +r*(K*e**(-r*T))*norm.cdf(-d_2)\n",
    "        return theta_put"
   ]
  },
  {
   "cell_type": "markdown",
   "metadata": {},
   "source": [
    "Example: For a stock, you are given:\n",
    "* The price is 45\n",
    "* Volatility of the stock is 0.2\n",
    "* The continuously compounded risk-free rate is 0.05\n",
    "* The continuous dividend rate of the stock is 0.02\n",
    "A European put and call option with a strike price of 43 expire in 3 months. Caluclate the Gamma for the option."
   ]
  },
  {
   "cell_type": "code",
   "execution_count": 36,
   "metadata": {},
   "outputs": [
    {
     "name": "stdout",
     "output_type": "stream",
     "text": [
      "-4.488149682971301\n"
     ]
    }
   ],
   "source": [
    "print(Greek_Theta('C',45, 43, 0.2, 0.05, 3/12, 0.02))"
   ]
  },
  {
   "cell_type": "markdown",
   "metadata": {},
   "source": [
    "## Greeks: Rho\n",
    "\n",
    "* Call option become more valuable as $r$ is increased, since the strike's value depreciates more - the longer-lived the option, the less the strike price is worth as $r$ grows.\n",
    "* Rho is the growth in call premium as a function of $r$, in other words it measures the sensitivity to the interest rate.\n",
    "* The more in-the-money the option is, the higher rho is, since there is less probability of the option being worthless.\n",
    "* For put options, put premium decreases with higher $r$, since higher $r$ leads to a lower present value for the strike price.\n",
    "\n",
    "**Pre-liminary Equations or Constants**\n",
    "* $S$ - The underlying asset, a common stock\n",
    "* $K$ - Strike price\n",
    "* $r$ - continuously compounded risk-free rate.\n",
    "* $T$ - time in years for option expiry\n",
    "* $\\sigma$ - volatility of the stock\n",
    "* $\\delta$ - The continuous dividend rate \n",
    "\n",
    "The Rho for a call option is:\n",
    "* $\\rho_{call} = TKe^{-rT}N(d_2)$  \n",
    "\n",
    "The Rho for a put option is:\n",
    "* $\\rho_{put} = -TKe^{-rT}N(-d_2)$  "
   ]
  },
  {
   "cell_type": "code",
   "execution_count": 37,
   "metadata": {},
   "outputs": [],
   "source": [
    "def Greek_Rho(Option_type, S, K, sigma, r, T, delta):\n",
    "    import numpy as np\n",
    "    import math\n",
    "    \n",
    "    e = math.e\n",
    "    \n",
    "    d_1 = (np.log(S/K) + (r - delta + 0.5*(sigma**2))*T)/(sigma*np.sqrt(T))\n",
    "    d_2 = d_1 - sigma*np.sqrt(T)\n",
    "    \n",
    "    from scipy.stats import norm\n",
    "    \n",
    "    if Option_type == 'C':\n",
    "        rho_call = T*(K*e**(-r*T))*norm.cdf(d_2)\n",
    "        return rho_call\n",
    "    \n",
    "    else:\n",
    "        rho_put = -T*(K*e**(-r*T))*norm.cdf(-d_2)\n",
    "        return rho_put"
   ]
  },
  {
   "cell_type": "markdown",
   "metadata": {},
   "source": [
    "Example: For a stock, you are given:\n",
    "* The price is 45\n",
    "* Volatility of the stock is 0.2\n",
    "* The continuously compounded risk-free rate is 0.05\n",
    "* The continuous dividend rate of the stock is 0.02\n",
    "A European put and call option with a strike price of 43 expire in 3 months. Caluclate the Gamma for the option."
   ]
  },
  {
   "cell_type": "code",
   "execution_count": 38,
   "metadata": {},
   "outputs": [
    {
     "name": "stdout",
     "output_type": "stream",
     "text": [
      "7.264340425342497\n"
     ]
    }
   ],
   "source": [
    "print(Greek_Rho('C',45, 43, 0.2, 0.05, 3/12, 0.02))"
   ]
  },
  {
   "cell_type": "markdown",
   "metadata": {},
   "source": [
    "## Greeks: Psi\n",
    "\n",
    "* Change in dividend return works exactly the opposite form change in risk-free rate. Call premiums decline with increasing dividend rates, since dividends reduce the value of the stock. Psi is always negative for a call option, and especially low for in-the-money long-lived options. Psi for put options is always positive, and is especially high for long-lived in-the-money options.\n",
    "* Put premiums increase with increasing $\\delta$, especially for long-lived in-the-money options.\n",
    "* Double check formula for this\n",
    "\n",
    "**Pre-liminary Equations or Constants**\n",
    "* $S$ - The underlying asset, a common stock\n",
    "* $K$ - Strike price\n",
    "* $r$ - continuously compounded risk-free rate.\n",
    "* $T$ - time in years for option expiry\n",
    "* $\\sigma$ - volatility of the stock\n",
    "* $\\delta$ - The continuous dividend rate \n",
    "\n",
    "The Psi for a call option is:\n",
    "* $\\Psi_{call} = -TSe^{-\\delta T}N(d_1)$  \n",
    "\n",
    "The Rho for a put option is:\n",
    "* $\\Psi_{put} = TSe^{-\\delta T}N(-d_1)$  "
   ]
  },
  {
   "cell_type": "code",
   "execution_count": 39,
   "metadata": {},
   "outputs": [],
   "source": [
    "def Greek_Psi(Option_type, S, K, sigma, r, T, delta):\n",
    "    import numpy as np\n",
    "    import math\n",
    "    \n",
    "    e = math.e\n",
    "    \n",
    "    d_1 = (np.log(S/K) + (r - delta + 0.5*(sigma**2))*T)/(sigma*np.sqrt(T))\n",
    "    d_2 = d_1 - sigma*np.sqrt(T)\n",
    "    \n",
    "    from scipy.stats import norm\n",
    "    \n",
    "    if Option_type == 'C':\n",
    "        psi_call = -T*(S*e**(-delta*T))*norm.cdf(d_1)\n",
    "        return psi_call\n",
    "    \n",
    "    else:\n",
    "        rho_put = T*(S*e**(-delta*T))*norm.cdf(-d_1)\n",
    "        return psi_put"
   ]
  },
  {
   "cell_type": "markdown",
   "metadata": {},
   "source": [
    "Example: For a stock, you are given:\n",
    "* The price is 45\n",
    "* Volatility of the stock is 0.2\n",
    "* The continuously compounded risk-free rate is 0.05\n",
    "* The continuous dividend rate of the stock is 0.02\n",
    "A European put and call option with a strike price of 43 expire in 3 months. Caluclate the Gamma for the option."
   ]
  },
  {
   "cell_type": "code",
   "execution_count": 40,
   "metadata": {},
   "outputs": [
    {
     "name": "stdout",
     "output_type": "stream",
     "text": [
      "-8.047464779603235\n"
     ]
    }
   ],
   "source": [
    "print(Greek_Psi('C',45, 43, 0.2, 0.05, 3/12, 0.02))"
   ]
  },
  {
   "cell_type": "markdown",
   "metadata": {},
   "source": [
    "# Monte Carlo Simulation for Option Pricing\n",
    "\n",
    "### Introduction\n",
    "* Monte Carlo simulation is a technique which numerically simulates a large number of scenarios to solve probabilistic problems. One can then calculate statistical properties of the outcomes to draw conclusions.\n",
    "* Monte Carlo is a useful technique for pricing options, which include many variables and helps price them by taking into consideration a large number of scenarios.\n",
    "* We will simulate possible future stock prices using risk-neutral probabilities and then use them to find the discounted expected option payoffs under two scenarios.\n",
    "* Monte Carlo methods generate pseudorandom numbers from a distribution. One can generate such random numbers for each parameter, and calculate Net Present Value or any other quantity of interest using those assumptions. Doing such calculations with thousands of sets of pseudorandom numbers generates an empirical distribution for the quantity of interest, from which one can evaluate moments, especially mean and variance, and measures of risk.\n",
    "\n",
    "### Risk-Neutral Pricing \n",
    "\n",
    "* In a risk-neutral world, one does not expect a premium to make up for the lack of certainty of the payoff. For example, given a choice between having 50 for sure and having a random amount of money with expected value 50, one is indifferent.\n",
    "* The risk-neutral probability is a theoretical probability that the stock price would rise in a risk neutral world. It assumes:\n",
    "    1. The current value of an asset is equal to its expected payoff discoutned at the risk-free rate.\n",
    "    2. There are no arbitrage oppurtunities in the market.\n",
    "* The risk-neutral probability is purely a mathematical concept and does not represent the probability of anything. We neither assume that all the investors in the market are risk-neutral, nor the fact that risky assets will earn the risk-free rate of return.\n",
    "* The option value at time $t$, is the present value of the expected payoff at maturity, $T$. Under risk-neutral valuation, we assume that we will be earning the risk-free interest rate, so we discount the expected payoff by the risk-free interest rate.\n",
    "\n",
    "    So a call option has value:\n",
    "* $C_{t} = PV(E[max(0,S_{T} - K)]) = e^{-r(T-t)}E[max(0,S_{T} - K)]$  \n",
    "\n",
    "    Similarly, a put option has value:\n",
    "* $C_{t} = PV(E[max(0,K - S_{T})]) = e^{-r(T-t)}E[max(0,K - S_{T})]$\n",
    "\n",
    "### Simulating Asset Prices\n",
    "\n",
    "* All variables are known with the exception of $S_{T}$ which will provided by our simulation.\n",
    "* To price our option, we are going to create a simulation that provides us with many observations for the final price of the asset $S_{T}$. Then, by averaging all these final prices, we are provided with a a vlaue for our expectation of the payoff.\n",
    "* The Black Scholes model assumes that we have known volatility, a risk-free interest rate and the price of an asset follows a geometric Brownian motion.\n",
    "* A geometirc Brownian motion is a random process where the logarithm of the random variable follows a nomral distribution.\n",
    "    \n",
    "    So the method for claculating asset prices at time $T$:\n",
    "* $S_{T} = S_{t}e^{(r - \\delta - \\frac{1}{2}\\sigma^2)(T-t)+\\sigma\\sqrt{T-t}\\epsilon}$\n",
    "\n",
    "\n",
    "**Pre-liminary Equations or Constants**\n",
    "* $K$ - strike price\n",
    "* $S_{t}$ - stock price at time t\n",
    "* $S_{T}$ - stock price at time T\n",
    "* $r$ - continuously compounded risk-free interest rate\n",
    "* $\\sigma$ - annual volatility\n",
    "* $\\epsilon$ - Random value, its distribution must be standard normal (mean of 0.0 and standard deviation of 1.0)\n",
    "* $\\delta$ - The continuous dividend rate"
   ]
  },
  {
   "cell_type": "code",
   "execution_count": 41,
   "metadata": {},
   "outputs": [],
   "source": [
    "def MC_riskneutral_European(Option_type, S, K, sigma, r, T, delta, simulations = 90000):\n",
    "    import numpy as np\n",
    "    import math\n",
    "    from random import gauss\n",
    "    \n",
    "    e = math.e\n",
    "    sqrt = math.sqrt\n",
    "    \n",
    "    # Generating stock prices\n",
    "    def generate_asset_price(S,r,sigma,T,delta):\n",
    "        return S*e**((r-delta-0.5*(sigma**2))*T + sigma*sqrt(T)*gauss(0,1))\n",
    "    \n",
    "    # Option payoff\n",
    "    def option_payoff(Option_type, S_T, K):\n",
    "        \n",
    "        if Option_type == 'C':\n",
    "            payoff = max(S_T - K, 0.0)\n",
    "        \n",
    "        else:\n",
    "            payoff = max(K - S_T, 0.0)\n",
    "            \n",
    "        return payoff\n",
    "    \n",
    "    \n",
    "    # Simulation\n",
    "    sum_payoffs = 0\n",
    "    \n",
    "    for i in range(simulations):\n",
    "        \n",
    "        S_T = generate_asset_price(S,r,sigma,T,delta)\n",
    "        sum_payoffs += option_payoff(Option_type, S_T, K)\n",
    "    \n",
    "    price = ((sum_payoffs)/float(simulations))*e**(-r*T)\n",
    "    \n",
    "    return price"
   ]
  },
  {
   "cell_type": "markdown",
   "metadata": {},
   "source": [
    "Given the following, price the European Call Option:\n",
    "\n",
    "* Option_type = 'C'\n",
    "* $S$ = 857.29\n",
    "* $K$ = 860\n",
    "* $\\sigma$ = 0.2076\n",
    "* r = 0.0014\n",
    "* T = 9 months\n",
    "* $\\delta$ = 0\n",
    "* simulations = 90000"
   ]
  },
  {
   "cell_type": "code",
   "execution_count": 42,
   "metadata": {},
   "outputs": [
    {
     "name": "stdout",
     "output_type": "stream",
     "text": [
      "60.34578189596793\n"
     ]
    }
   ],
   "source": [
    "print(MC_riskneutral_European('C', 857.29 , 860, 0.2076 , 0.0014 , 9/12, 0))"
   ]
  }
 ],
 "metadata": {
  "kernelspec": {
   "display_name": "Python 3",
   "language": "python",
   "name": "python3"
  },
  "language_info": {
   "codemirror_mode": {
    "name": "ipython",
    "version": 3
   },
   "file_extension": ".py",
   "mimetype": "text/x-python",
   "name": "python",
   "nbconvert_exporter": "python",
   "pygments_lexer": "ipython3",
   "version": "3.8.5"
  }
 },
 "nbformat": 4,
 "nbformat_minor": 4
}
